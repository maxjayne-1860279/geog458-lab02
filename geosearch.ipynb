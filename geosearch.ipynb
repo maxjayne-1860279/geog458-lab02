{
  "cells": [
    {
      "cell_type": "code",
      "execution_count": null,
      "metadata": {
        "id": "EtnaSlH-wplB"
      },
      "outputs": [],
      "source": [
        "# created on Dec 24, 2020\n",
        "# modified on April 12, 2022\n",
        "# @author:          Bo Zhao\n",
        "# @email:           zhaobo@uw.edu\n",
        "# @website:         https://hgis.uw.edu\n",
        "# @organization:    Department of Geography, University of Washington, Seattle\n",
        "# @description:     Search geo-tagged tweets within the U.S. This script is modified from https://github.com/shawn-terryah/Twitter_Geolocation"
      ]
    },
    {
      "cell_type": "code",
      "execution_count": 2,
      "metadata": {
        "id": "f-bMdKMawxnQ",
        "outputId": "edbcba98-aba6-4823-cfc3-af3f79aa3a3c",
        "colab": {
          "base_uri": "https://localhost:8080/"
        }
      },
      "outputs": [
        {
          "output_type": "stream",
          "name": "stdout",
          "text": [
            "Mounted at /gdrive\n"
          ]
        }
      ],
      "source": [
        "import tweepy, json, time\n",
        "import pandas as pd\n",
        "from google.colab import files\n",
        "# Create data on to Google Drive\n",
        "from google.colab import drive\n",
        "# Mount your Drive to the Colab VM.\n",
        "drive.mount('/gdrive')"
      ]
    },
    {
      "cell_type": "code",
      "execution_count": 3,
      "metadata": {
        "id": "dEyPts-ZwplE"
      },
      "outputs": [],
      "source": [
        "class StreamListener(tweepy.StreamListener):\n",
        "    \"\"\"tweepy.StreamListener is a class provided by tweepy used to access\n",
        "    the Twitter Streaming API to collect tweets in real-time.\n",
        "    \"\"\"\n",
        "\n",
        "    def __init__(self, time_limit=60, file=\"\"):\n",
        "        \"\"\"class initialization\"\"\"\n",
        "        self.start_time = time.time()\n",
        "        self.limit = time_limit\n",
        "        self.result = []\n",
        "        self.f = file\n",
        "        super(StreamListener, self).__init__()\n",
        "\n",
        "    def on_data(self, data):\n",
        "        \"\"\"This is called when data are streamed in.\"\"\"\n",
        "        if (time.time() - self.start_time) < self.limit:\n",
        "            datajson = json.loads(data)\n",
        "            # print(datajson, \"\\n\")\n",
        "            if 'id' not in datajson.keys():\n",
        "                time.sleep(10)\n",
        "            else:\n",
        "                id = datajson['id']\n",
        "                username = datajson['user']['screen_name']\n",
        "                created_at = datajson['created_at']\n",
        "                text = datajson['text'].strip().replace(\"\\n\", \"\")\n",
        "\n",
        "                # process the geo-tags\n",
        "                if datajson['coordinates'] == None:\n",
        "                    try:\n",
        "                        bbox = datajson['place']['bounding_box']['coordinates'][0]\n",
        "                        lng = (bbox[0][0] + bbox[2][0]) / 2.0\n",
        "                        lat = (bbox[0][1] + bbox[1][1]) / 2.0\n",
        "                    except:\n",
        "                        lat = 0\n",
        "                        lng = 0\n",
        "                else:\n",
        "                    lng = datajson['coordinates']['coordinates'][0]\n",
        "                    lat = datajson['coordinates']['coordinates'][1]\n",
        "\n",
        "                if lat != 0:\n",
        "                    row = {\n",
        "                        'id': id,\n",
        "                        'username': username,\n",
        "                        'created_at': created_at,\n",
        "                        'lng': lng,\n",
        "                        'lat': lat,\n",
        "                        'text': text\n",
        "                    }\n",
        "                    print(row)\n",
        "                    self.result.append(row)\n",
        "                else:\n",
        "                    pass\n",
        "        else:\n",
        "            df = pd.DataFrame(self.result)\n",
        "            df.to_csv(self.f, index=False)\n",
        "            # download the csv to your local computer\n",
        "            files.download(self.f)\n",
        "            print(\"the csv has been downloaded to your local computer. The program has been completed successfully.\")\n",
        "            return False"
      ]
    },
    {
      "cell_type": "code",
      "execution_count": 4,
      "metadata": {
        "id": "5Xzyo_OiwplG",
        "outputId": "f83514df-5a0f-4959-8290-958e5046b26e",
        "colab": {
          "base_uri": "https://localhost:8080/",
          "height": 957
        }
      },
      "outputs": [
        {
          "output_type": "stream",
          "name": "stdout",
          "text": [
            "{'id': 1518365312529408001, 'username': 'rrobertswxlab', 'created_at': 'Sun Apr 24 23:04:35 +0000 2022', 'lng': -101.89717300000001, 'lat': 33.5705265, 'text': 'Certainly a human tragedy without any vital reson.'}\n",
            "{'id': 1518365454703550464, 'username': 'gemarble357', 'created_at': 'Sun Apr 24 23:05:08 +0000 2022', 'lng': -118.4119065, 'lat': 34.0207895, 'text': '#ArmenianGenocide happened. As we see in #Ukraine, genocide it can happen again. https://t.co/Os6T2aO2ep'}\n",
            "{'id': 1518365512841023489, 'username': 'lacey9020', 'created_at': 'Sun Apr 24 23:05:22 +0000 2022', 'lng': -82.81656100000001, 'lat': 27.8383605, 'text': 'Most Russians feel Ukraine is part of Russia. This is why they forced Putin to do this Special Operation. They thin… https://t.co/XAvyNkeBOV'}\n",
            "{'id': 1518365628746412032, 'username': 'mdtrf', 'created_at': 'Sun Apr 24 23:05:50 +0000 2022', 'lng': 3.6611595, 'lat': 51.5015865, 'text': \"RUSSIA INVADED UKRAINE&gt;&gt;https://t.co/OrLeh2HnELWE'RE ALL IN&gt; FOR A THREAT; INFLICTED BY EVIL FORCES INRUSSIA; THE PUTIN DOCTRINE !\"}\n",
            "{'id': 1518365680940339201, 'username': 'bitcoincashjusd', 'created_at': 'Sun Apr 24 23:06:02 +0000 2022', 'lng': -100.0768885, 'lat': 31.1688935, 'text': 'Ukraine was OUR government branchAnyways who represented and did not nKnowFired'}\n",
            "{'id': 1518365997111128065, 'username': 'dabydeen', 'created_at': 'Sun Apr 24 23:07:18 +0000 2022', 'lng': -79.2725695, 'lat': 43.629311, 'text': \"90% of the residential buildings have been hit. That's the result of targeted strikes. How Putin would wail if Ukra… https://t.co/hR7uFZ2I7z\"}\n",
            "{'id': 1518366096528715777, 'username': 'Richard78763566', 'created_at': 'Sun Apr 24 23:07:41 +0000 2022', 'lng': -73.86085700000001, 'lat': 40.944567500000005, 'text': 'Use your abilities.'}\n",
            "{'id': 1518366201231065089, 'username': 'JosephV64384697', 'created_at': 'Sun Apr 24 23:08:06 +0000 2022', 'lng': -71.0887125, 'lat': 42.3136695, 'text': 'Always Since Charles De Gaulle Maybe Napoleon Bonaparte History Repeats And @NATO @EuropeanUnion12 &amp; 🇺🇸 FAILED… https://t.co/iDy7M1Fx0J'}\n",
            "{'id': 1518366225189019652, 'username': 'MARYMANDZIJ', 'created_at': 'Sun Apr 24 23:08:12 +0000 2022', 'lng': -97.1526765, 'lat': 49.8538055, 'text': \"@POTUS Kudos to all the aid that has been sent to Ukraine. NATO must stop Putin because he won't stop with UKRAINE.… https://t.co/tf8GMUKXwz\"}\n",
            "{'id': 1518366273725476864, 'username': 'lacey9020', 'created_at': 'Sun Apr 24 23:08:24 +0000 2022', 'lng': -82.81656100000001, 'lat': 27.8383605, 'text': 'Why US did not oppose Nazis ideology in Ukraine? Because it is at the heart of Ukraine nationalism, being anti-Russ… https://t.co/H8B2DlLG8C'}\n",
            "{'id': 1518366285477945346, 'username': 'dawidwburzynski', 'created_at': 'Sun Apr 24 23:08:26 +0000 2022', 'lng': -79.616073, 'lat': 43.555244, 'text': 'So Russia have laid out there plans to use WMDs in Ukraine. Got it #SlavaUkraini'}\n",
            "{'id': 1518366403463884800, 'username': 'Sandy23269960', 'created_at': 'Sun Apr 24 23:08:55 +0000 2022', 'lng': 115.670474, 'lat': -33.327149000000006, 'text': '@10NewsFirst Well why are they doing nothing to help these poor innocent ppl in Ukraine being slaughtered???'}\n",
            "{'id': 1518366578697547776, 'username': 'barryDstocker', 'created_at': 'Sun Apr 24 23:09:36 +0000 2022', 'lng': 29.005222500000002, 'lat': 41.0213205, 'text': '1/3 How Ukrainians saved the Ancient Britons from Saxon invasion! To be precise, in the 2004 film *King Arthur*, Ro… https://t.co/JUV39fhc5H'}\n",
            "{'id': 1518366693424529408, 'username': '_janeward', 'created_at': 'Sun Apr 24 23:10:04 +0000 2022', 'lng': 115.670474, 'lat': -33.327149000000006, 'text': 'They were flying the Ukraine flag this morning at the dawn service in Bunbury, and gave a moving tribute to them. W… https://t.co/ZNAkqXaZNT'}\n",
            "{'id': 1518366720838320130, 'username': 'CynthiaSneed7', 'created_at': 'Sun Apr 24 23:10:10 +0000 2022', 'lng': -86.00682950000001, 'lat': 34.003125, 'text': '@ChrissieEvert @iga_swiatek @WTA As is her country helping Ukraine!'}\n",
            "{'id': 1518366732490096641, 'username': 'PTekach', 'created_at': 'Sun Apr 24 23:10:13 +0000 2022', 'lng': -80.574624, 'lat': 41.021820000000005, 'text': 'Volodymyr Zelenskyy Warns That Ukraine Is Just The Beginning For Russiahttps://t.co/UkUxCDBd0T'}\n",
            "{'id': 1518367047226380288, 'username': 'Michael20221919', 'created_at': 'Sun Apr 24 23:11:28 +0000 2022', 'lng': -0.4323375, 'lat': 51.8944435, 'text': \"I stand with Ukraine 🇺🇦I was wondering why two major European country's sold Russia 🇷🇺 weapons which are now bein… https://t.co/0H2sNJqaI2\"}\n",
            "{'id': 1518367208568770560, 'username': 'bsmitherealbob1', 'created_at': 'Sun Apr 24 23:12:07 +0000 2022', 'lng': -75.3864605, 'lat': 39.1450235, 'text': \"@seanhannity Ukraine's Zelenskyy is wasting his time meaning with the two bird brain worst Sec.Austin and Blinken,… https://t.co/VghRr6UDD0\"}\n",
            "{'id': 1518367498533539841, 'username': 'LeopoldOuellet9', 'created_at': 'Sun Apr 24 23:13:16 +0000 2022', 'lng': -67.389307, 'lat': 47.509690500000005, 'text': '\"• Ukraine population by age group 2021 | Statista\" https://t.co/CIgiWnEVBG.'}\n",
            "{'id': 1518367621799940096, 'username': 'whitbycolin', 'created_at': 'Sun Apr 24 23:13:45 +0000 2022', 'lng': -0.6188560000000001, 'lat': 54.481283, 'text': \"I don't understand the fools obsession to kill innocent people so many countries have a nuclear option if he hits t… https://t.co/BBEIWE2gC2\"}\n",
            "{'id': 1518368116887146496, 'username': 'LibertyHotelB', 'created_at': 'Sun Apr 24 23:15:43 +0000 2022', 'lng': 31.181446, 'lat': 48.382929000000004, 'text': '#Guyana postage stamp.#StandWithUkraine #StopRussianAggression #Ukraine https://t.co/9EUg5XZFgX'}\n",
            "{'id': 1518368430445178880, 'username': 'MySocialMedia6', 'created_at': 'Sun Apr 24 23:16:58 +0000 2022', 'lng': 145.0531355, 'lat': -37.9725665, 'text': 'You do it like this @ScottMorrisonMPhttps://t.co/toFuS8NlJg#auspol'}\n",
            "{'id': 1518368451256979456, 'username': 'BK__Ultra', 'created_at': 'Sun Apr 24 23:17:03 +0000 2022', 'lng': -122.3306025, 'lat': 47.614817, 'text': 'Feel extremely greatful to have two amazing pieces from @osmangulveren\\'s incredible and emotional series \"Russian I… https://t.co/TZ6KZ6XDnU'}\n",
            "{'id': 1518368463013642240, 'username': 'DailyNews79', 'created_at': 'Sun Apr 24 23:17:06 +0000 2022', 'lng': 172.21001302, 'lat': -42.53376215, 'text': \"Ukraine war shows peace can't be taken for granted - Ardern - 1News https://t.co/RO3Ut5IrQX https://t.co/uVTPv8hRcp\"}\n",
            "{'id': 1518368802261454848, 'username': 'JoQuinnbtchycat', 'created_at': 'Sun Apr 24 23:18:27 +0000 2022', 'lng': -117.851089, 'lat': 33.842863, 'text': 'Israeli soldiers arrive to fight in Ukraine:'}\n",
            "{'id': 1518368816446775297, 'username': 'RockyFJBLGB', 'created_at': 'Sun Apr 24 23:18:30 +0000 2022', 'lng': -111.931711, 'lat': 34.1682535, 'text': '@MN_Kel @A_siddique79 Anyone who actually understands what Ukraine is about would not be hanging Ukrainian flags on their profile!'}\n",
            "{'id': 1518369088392806402, 'username': 'lainebee23', 'created_at': 'Sun Apr 24 23:19:35 +0000 2022', 'lng': -72.7318375, 'lat': 40.8294475, 'text': \"@TheRealMatt22 With Putin's war on the Ukraine... He has made his country and himself a pariah... His war crimes will not be forgotten...\"}\n",
            "{'id': 1518369230328061952, 'username': 'angelmelguizo', 'created_at': 'Sun Apr 24 23:20:09 +0000 2022', 'lng': -75.43191350000001, 'lat': 6.145115499999999, 'text': 'Hope so too!'}\n",
            "{'id': 1518369244051869696, 'username': 'MathiasSsemanda', 'created_at': 'Sun Apr 24 23:20:12 +0000 2022', 'lng': -77.904653, 'lat': 40.8028355, 'text': 'Emmanuel Macron wins second term as President of France. Biden and Boris congratulate him. The war in Ukraine continues unabated.'}\n",
            "{'id': 1518369479557885953, 'username': 'Michael20221919', 'created_at': 'Sun Apr 24 23:21:08 +0000 2022', 'lng': -0.4323375, 'lat': 51.8944435, 'text': 'Ukraine 🇺🇦 is not Russia🇷🇺 https://t.co/B1OQjCI2ZK'}\n",
            "{'id': 1518369583974871040, 'username': 'Telly222', 'created_at': 'Sun Apr 24 23:21:33 +0000 2022', 'lng': -123.123581, 'lat': 49.257639, 'text': 'Democratically elected. #PutinFool is #loosing again'}\n",
            "{'id': 1518369757325574146, 'username': 'WillBenton1', 'created_at': 'Sun Apr 24 23:22:14 +0000 2022', 'lng': -84.433106, 'lat': 33.7671945, 'text': 'The longer the Mad Maniac Putin keeps his Army in the field, with the sustained high rate of attrition, we will see… https://t.co/jkMUBX6mE2'}\n",
            "{'id': 1518369776783040513, 'username': 'then8ivepatriot', 'created_at': 'Sun Apr 24 23:22:19 +0000 2022', 'lng': -101.89717300000001, 'lat': 33.5705265, 'text': 'It’s funny hearing people say “the Ukraine” 😅😅😅 I bet they say “EYEtalian” too 😒'}\n",
            "{'id': 1518369945960292353, 'username': 'JeremyLevine92', 'created_at': 'Sun Apr 24 23:22:59 +0000 2022', 'lng': -74.24240950000001, 'lat': 40.948353, 'text': 'He has yet to win small so now he wants to try and win big…Beyond irrational'}\n",
            "{'id': 1518370301595291648, 'username': 'ScottPe71714792', 'created_at': 'Sun Apr 24 23:24:24 +0000 2022', 'lng': -84.433106, 'lat': 33.7671945, 'text': '@AKostrzewa3 @SherryBoBerry4 @TripleJRF @visegrad24 Ukraine has had since occupation of Crimea to prepare. We want… https://t.co/dGxDqQPfGR'}\n",
            "{'id': 1518370351025164289, 'username': 'NegwaGee', 'created_at': 'Sun Apr 24 23:24:36 +0000 2022', 'lng': 39.571241, 'lat': -2.36521, 'text': '@pizzahmwitu And others are raising money to fund Ukraine'}\n",
            "{'id': 1518370755968348161, 'username': 'Gregory51165670', 'created_at': 'Sun Apr 24 23:26:12 +0000 2022', 'lng': -120.58340150000001, 'lat': 44.1454365, 'text': 'China has fuel reserve in Europe. Strange Obiden is depleting US fuel reserve. Why so after all our military is dep… https://t.co/qelyHuIb68'}\n",
            "{'id': 1518370780433862656, 'username': 'mykkal', 'created_at': 'Sun Apr 24 23:26:18 +0000 2022', 'lng': -84.433106, 'lat': 33.7671945, 'text': '@KyivIndependent Only two offensives... What globally recognized Army can only afford to  invade a few months at a… https://t.co/ZxdG3RK1mZ'}\n",
            "{'id': 1518370954929328128, 'username': 'Telly222', 'created_at': 'Sun Apr 24 23:27:00 +0000 2022', 'lng': -123.123581, 'lat': 49.257639, 'text': 'F¥k #LooserPutin. He will never put anyone ahead of his aggressive #RFAgenda. He will let them all burn'}\n",
            "{'id': 1518371096235544576, 'username': 'ewilks56', 'created_at': 'Sun Apr 24 23:27:33 +0000 2022', 'lng': -83.1738665, 'lat': 32.6782075, 'text': '@rlr40141938 Still have to wonder how could 42% of French voters vote for a staunch Putin ally, considering what he… https://t.co/YqpEK3n7wz'}\n",
            "{'id': 1518371226493857799, 'username': 'BaidaAmit', 'created_at': 'Sun Apr 24 23:28:05 +0000 2022', 'lng': 12.386702499999998, 'lat': 51.3415155, 'text': \"@jacintocosta @CanadianUkrain1 U try to create similarity.But isn't the same.Read the history of the land and the… https://t.co/9RjtQFhO4N\"}\n",
            "{'id': 1518371231271198724, 'username': 'BrodaShokan1', 'created_at': 'Sun Apr 24 23:28:06 +0000 2022', 'lng': 3.3386055, 'lat': 6.4931125000000005, 'text': '@EtieneUbeh Very funny no vix #brodashokan1 #Ukraine #ONEPIECE1015 https://t.co/sawOgUxluH'}\n",
            "{'id': 1518371475983581184, 'username': 'comanchechiefIV', 'created_at': 'Sun Apr 24 23:29:04 +0000 2022', 'lng': -89.2665075, 'lat': 39.7393005, 'text': 'Among the international volunteers fighting along with Ukrainian military are the Israelis. 🇺🇦🇮🇱'}\n",
            "{'id': 1518371482899951616, 'username': 'TwetKat', 'created_at': 'Sun Apr 24 23:29:06 +0000 2022', 'lng': -114.087851, 'lat': 51.027664, 'text': 'I agree with this take on #MBSラジオ #Saudi oil &amp; the future stability of the #MiddleEast the assist with #Russian agg… https://t.co/Wtdxs7h1AV'}\n",
            "{'id': 1518371946832056320, 'username': 'survivor_rights', 'created_at': 'Sun Apr 24 23:30:56 +0000 2022', 'lng': -83.804475, 'lat': 27.698681999999998, 'text': 'Foreign fighter are going to #Ukraine to help with defending the country, media reports with apparent approval and… https://t.co/RL7YVb4fFB'}\n",
            "{'id': 1518372042059436033, 'username': 'AlisaPenninger', 'created_at': 'Sun Apr 24 23:31:19 +0000 2022', 'lng': -79.861034, 'lat': 35.1704985, 'text': 'Heroes'}\n",
            "{'id': 1518372088012283906, 'username': 'BasuAshis', 'created_at': 'Sun Apr 24 23:31:30 +0000 2022', 'lng': -79.616073, 'lat': 43.555244, 'text': 'Op-Ed by @melaniejoly and @trussliz https://t.co/WkvTJIcoio'}\n",
            "{'id': 1518372123483553792, 'username': 'AdamsFantasy', 'created_at': 'Sun Apr 24 23:31:38 +0000 2022', 'lng': -72.54558449999999, 'lat': 42.1130625, 'text': 'US Secretary of State Blinken and defense chief Austin meet Volodymyr Zelenskyy in Kyiv, says the presidential advi… https://t.co/j0cz57RXzO'}\n",
            "{'id': 1518372430745587712, 'username': 'MathiasSsemanda', 'created_at': 'Sun Apr 24 23:32:52 +0000 2022', 'lng': -77.904653, 'lat': 40.8028355, 'text': 'Ukraine cannot guarantee the European Union that has experienced over 50 years of stability that the crisis in Ukra… https://t.co/UTiWdEMoR2'}\n",
            "{'id': 1518372490451767296, 'username': 'CAllderladd', 'created_at': 'Sun Apr 24 23:33:06 +0000 2022', 'lng': 145.0531355, 'lat': -37.9725665, 'text': 'Not necessarily every man..but definately some...think comfort women in Japan....9 women pregnant in Ukraine from r… https://t.co/2TUu1hc6zK'}\n",
            "{'id': 1518372673629392897, 'username': 'AdamsFantasy', 'created_at': 'Sun Apr 24 23:33:50 +0000 2022', 'lng': -72.54558449999999, 'lat': 42.1130625, 'text': 'US Secretary of State Blinken and defense chief Austin meet Volodymyr Zelenskyy in Kyiv, says the presidential advi… https://t.co/cnMfq51LJP'}\n",
            "{'id': 1518372739236741120, 'username': 'AdamsFantasy', 'created_at': 'Sun Apr 24 23:34:05 +0000 2022', 'lng': -72.54558449999999, 'lat': 42.1130625, 'text': 'War in Ukraine entered its third month on Sunday – the day that Orthodox Christians celebrate Easter. https://t.co/BAXLsrlT1B'}\n"
          ]
        },
        {
          "output_type": "display_data",
          "data": {
            "text/plain": [
              "<IPython.core.display.Javascript object>"
            ],
            "application/javascript": [
              "\n",
              "    async function download(id, filename, size) {\n",
              "      if (!google.colab.kernel.accessAllowed) {\n",
              "        return;\n",
              "      }\n",
              "      const div = document.createElement('div');\n",
              "      const label = document.createElement('label');\n",
              "      label.textContent = `Downloading \"${filename}\": `;\n",
              "      div.appendChild(label);\n",
              "      const progress = document.createElement('progress');\n",
              "      progress.max = size;\n",
              "      div.appendChild(progress);\n",
              "      document.body.appendChild(div);\n",
              "\n",
              "      const buffers = [];\n",
              "      let downloaded = 0;\n",
              "\n",
              "      const channel = await google.colab.kernel.comms.open(id);\n",
              "      // Send a message to notify the kernel that we're ready.\n",
              "      channel.send({})\n",
              "\n",
              "      for await (const message of channel.messages) {\n",
              "        // Send a message to notify the kernel that we're ready.\n",
              "        channel.send({})\n",
              "        if (message.buffers) {\n",
              "          for (const buffer of message.buffers) {\n",
              "            buffers.push(buffer);\n",
              "            downloaded += buffer.byteLength;\n",
              "            progress.value = downloaded;\n",
              "          }\n",
              "        }\n",
              "      }\n",
              "      const blob = new Blob(buffers, {type: 'application/binary'});\n",
              "      const a = document.createElement('a');\n",
              "      a.href = window.URL.createObjectURL(blob);\n",
              "      a.download = filename;\n",
              "      div.appendChild(a);\n",
              "      a.click();\n",
              "      div.remove();\n",
              "    }\n",
              "  "
            ]
          },
          "metadata": {}
        },
        {
          "output_type": "display_data",
          "data": {
            "text/plain": [
              "<IPython.core.display.Javascript object>"
            ],
            "application/javascript": [
              "download(\"download_e2645e88-56f7-416d-a88e-d4a985f7e0fb\", \"geotweets.csv\", 10459)"
            ]
          },
          "metadata": {}
        },
        {
          "output_type": "stream",
          "name": "stdout",
          "text": [
            "the csv has been downloaded to your local computer. The program has been completed successfully.\n"
          ]
        }
      ],
      "source": [
        "if __name__ == \"__main__\":\n",
        "    # These are provided to you through the Twitter API after you create a account\n",
        "    # register a Twitter App to get the keys and access tokens.\n",
        "    output_file = '/gdrive/My Drive/geotweets.csv'\n",
        "\n",
        "    # Apply for your own Twitter API keys at https://developer.twitter.com/en/apply-for-access\n",
        "    consumer_key = \"____\"\n",
        "    consumer_secret = \"____\"\n",
        "    access_token = \"____\"\n",
        "    access_token_secret = \"____\"\n",
        "\n",
        "    myauth = tweepy.OAuthHandler(consumer_key, consumer_secret)\n",
        "    myauth.set_access_token(access_token, access_token_secret)\n",
        "\n",
        "    # LOCATIONS are the longitude, latitude coordinate corners for a box that restricts the\n",
        "    # geographic area from which you will stream tweets. The first two define the southwest\n",
        "    # corner of the box and the second two define the northeast corner of the box.\n",
        "    LOCATIONS = [-124.7771694, 24.520833, -66.947028, 49.384472,  # Contiguous US\n",
        "                 -164.639405, 58.806859, -144.152365, 71.76871,  # Alaska\n",
        "                 -160.161542, 18.776344, -154.641396, 22.878623]  # Hawaii\n",
        "\n",
        "    stream_listener = StreamListener(time_limit=1800, file=output_file)\n",
        "    stream = tweepy.Stream(auth=myauth, listener=stream_listener)\n",
        "    stream.filter(track=['Ukraine'], languages=['en'], encoding=\"utf-8\")"
      ]
    }
  ],
  "metadata": {
    "colab": {
      "collapsed_sections": [],
      "name": "Copy of 02_geosearch.ipynb",
      "provenance": []
    },
    "kernelspec": {
      "display_name": "Python 3",
      "language": "python",
      "name": "python3"
    },
    "language_info": {
      "codemirror_mode": {
        "name": "ipython",
        "version": 3
      },
      "file_extension": ".py",
      "mimetype": "text/x-python",
      "name": "python",
      "nbconvert_exporter": "python",
      "pygments_lexer": "ipython3",
      "version": "3.7.4"
    }
  },
  "nbformat": 4,
  "nbformat_minor": 0
}